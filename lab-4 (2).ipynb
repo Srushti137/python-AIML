{
 "cells": [
  {
   "cell_type": "code",
   "execution_count": 1,
   "id": "4aa2158a-92d7-4e6f-b278-f51d4717f52d",
   "metadata": {},
   "outputs": [
    {
     "data": {
      "text/html": [
       "<div>\n",
       "<style scoped>\n",
       "    .dataframe tbody tr th:only-of-type {\n",
       "        vertical-align: middle;\n",
       "    }\n",
       "\n",
       "    .dataframe tbody tr th {\n",
       "        vertical-align: top;\n",
       "    }\n",
       "\n",
       "    .dataframe thead th {\n",
       "        text-align: right;\n",
       "    }\n",
       "</style>\n",
       "<table border=\"1\" class=\"dataframe\">\n",
       "  <thead>\n",
       "    <tr style=\"text-align: right;\">\n",
       "      <th></th>\n",
       "      <th>Empid</th>\n",
       "      <th>Ename</th>\n",
       "      <th>Salary</th>\n",
       "      <th>DOJ</th>\n",
       "    </tr>\n",
       "  </thead>\n",
       "  <tbody>\n",
       "    <tr>\n",
       "      <th>0</th>\n",
       "      <td>1001</td>\n",
       "      <td>Ganesh</td>\n",
       "      <td>1000.00</td>\n",
       "      <td>10-10-2000</td>\n",
       "    </tr>\n",
       "    <tr>\n",
       "      <th>1</th>\n",
       "      <td>1002</td>\n",
       "      <td>Anil</td>\n",
       "      <td>23000.50</td>\n",
       "      <td>3/20/2002</td>\n",
       "    </tr>\n",
       "    <tr>\n",
       "      <th>2</th>\n",
       "      <td>1003</td>\n",
       "      <td>Gaurav</td>\n",
       "      <td>NaN</td>\n",
       "      <td>03-03-2002</td>\n",
       "    </tr>\n",
       "    <tr>\n",
       "      <th>3</th>\n",
       "      <td>1004</td>\n",
       "      <td>Hema Chandra</td>\n",
       "      <td>16500.50</td>\n",
       "      <td>09-10-2000</td>\n",
       "    </tr>\n",
       "    <tr>\n",
       "      <th>4</th>\n",
       "      <td>1005</td>\n",
       "      <td>Laxmi Prasanna</td>\n",
       "      <td>12000.75</td>\n",
       "      <td>10-08-2000</td>\n",
       "    </tr>\n",
       "    <tr>\n",
       "      <th>5</th>\n",
       "      <td>1006</td>\n",
       "      <td>Anant</td>\n",
       "      <td>9999.99</td>\n",
       "      <td>09-09-1999</td>\n",
       "    </tr>\n",
       "  </tbody>\n",
       "</table>\n",
       "</div>"
      ],
      "text/plain": [
       "   Empid           Ename    Salary         DOJ\n",
       "0   1001          Ganesh   1000.00  10-10-2000\n",
       "1   1002            Anil  23000.50   3/20/2002\n",
       "2   1003          Gaurav       NaN  03-03-2002\n",
       "3   1004    Hema Chandra  16500.50  09-10-2000\n",
       "4   1005  Laxmi Prasanna  12000.75  10-08-2000\n",
       "5   1006          Anant    9999.99  09-09-1999"
      ]
     },
     "execution_count": 1,
     "metadata": {},
     "output_type": "execute_result"
    }
   ],
   "source": [
    "import pandas as pd\n",
    "df=pd.read_csv(\"empdata.csv\")\n",
    "df"
   ]
  },
  {
   "cell_type": "code",
   "execution_count": 3,
   "id": "546d2372-0835-404c-9945-833e7fca27c8",
   "metadata": {},
   "outputs": [
    {
     "name": "stdout",
     "output_type": "stream",
     "text": [
      "Index(['EMPID', 'ENAME', 'SALARY', 'DOJ'], dtype='object')\n"
     ]
    }
   ],
   "source": [
    "df.columns = [i.upper() for i in df]\n",
    "print(df.columns)"
   ]
  },
  {
   "cell_type": "code",
   "execution_count": 5,
   "id": "41e49422-6954-4ebb-b02a-d9c5d8ececb8",
   "metadata": {},
   "outputs": [
    {
     "data": {
      "text/plain": [
       "EMPID     0\n",
       "ENAME     0\n",
       "SALARY    1\n",
       "DOJ       0\n",
       "dtype: int64"
      ]
     },
     "execution_count": 5,
     "metadata": {},
     "output_type": "execute_result"
    }
   ],
   "source": [
    "df.isna().sum()"
   ]
  },
  {
   "cell_type": "code",
   "execution_count": 7,
   "id": "ab56e726-70ba-45b4-8e73-7712627c3bff",
   "metadata": {},
   "outputs": [
    {
     "data": {
      "text/plain": [
       "EMPID     0\n",
       "ENAME     0\n",
       "SALARY    1\n",
       "DOJ       0\n",
       "dtype: int64"
      ]
     },
     "execution_count": 7,
     "metadata": {},
     "output_type": "execute_result"
    }
   ],
   "source": [
    "df.isnull().sum()"
   ]
  },
  {
   "cell_type": "code",
   "execution_count": 9,
   "id": "08e6e40b-2dc8-43b1-b92f-2ea5897c5519",
   "metadata": {},
   "outputs": [
    {
     "name": "stdout",
     "output_type": "stream",
     "text": [
      "   EMPID  ENAME  SALARY    DOJ\n",
      "0  False  False   False  False\n",
      "1  False  False   False  False\n",
      "2  False  False    True  False\n",
      "3  False  False   False  False\n",
      "4  False  False   False  False\n",
      "5  False  False   False  False\n"
     ]
    }
   ],
   "source": [
    "print(df.isnull())"
   ]
  },
  {
   "cell_type": "code",
   "execution_count": 11,
   "id": "fd9bed56-a477-4a14-b5b1-796a34811531",
   "metadata": {},
   "outputs": [
    {
     "data": {
      "text/html": [
       "<div>\n",
       "<style scoped>\n",
       "    .dataframe tbody tr th:only-of-type {\n",
       "        vertical-align: middle;\n",
       "    }\n",
       "\n",
       "    .dataframe tbody tr th {\n",
       "        vertical-align: top;\n",
       "    }\n",
       "\n",
       "    .dataframe thead th {\n",
       "        text-align: right;\n",
       "    }\n",
       "</style>\n",
       "<table border=\"1\" class=\"dataframe\">\n",
       "  <thead>\n",
       "    <tr style=\"text-align: right;\">\n",
       "      <th></th>\n",
       "      <th>EMPID</th>\n",
       "      <th>ENAME</th>\n",
       "      <th>SALARY</th>\n",
       "      <th>DOJ</th>\n",
       "    </tr>\n",
       "  </thead>\n",
       "  <tbody>\n",
       "    <tr>\n",
       "      <th>0</th>\n",
       "      <td>1001</td>\n",
       "      <td>Ganesh</td>\n",
       "      <td>1000.00</td>\n",
       "      <td>10-10-2000</td>\n",
       "    </tr>\n",
       "    <tr>\n",
       "      <th>1</th>\n",
       "      <td>1002</td>\n",
       "      <td>Anil</td>\n",
       "      <td>23000.50</td>\n",
       "      <td>3/20/2002</td>\n",
       "    </tr>\n",
       "    <tr>\n",
       "      <th>2</th>\n",
       "      <td>1003</td>\n",
       "      <td>Gaurav</td>\n",
       "      <td>NaN</td>\n",
       "      <td>03-03-2002</td>\n",
       "    </tr>\n",
       "    <tr>\n",
       "      <th>3</th>\n",
       "      <td>1004</td>\n",
       "      <td>Hema Chandra</td>\n",
       "      <td>16500.50</td>\n",
       "      <td>09-10-2000</td>\n",
       "    </tr>\n",
       "    <tr>\n",
       "      <th>4</th>\n",
       "      <td>1005</td>\n",
       "      <td>Laxmi Prasanna</td>\n",
       "      <td>12000.75</td>\n",
       "      <td>10-08-2000</td>\n",
       "    </tr>\n",
       "    <tr>\n",
       "      <th>5</th>\n",
       "      <td>1006</td>\n",
       "      <td>Anant</td>\n",
       "      <td>9999.99</td>\n",
       "      <td>09-09-1999</td>\n",
       "    </tr>\n",
       "  </tbody>\n",
       "</table>\n",
       "</div>"
      ],
      "text/plain": [
       "   EMPID           ENAME    SALARY         DOJ\n",
       "0   1001          Ganesh   1000.00  10-10-2000\n",
       "1   1002            Anil  23000.50   3/20/2002\n",
       "2   1003          Gaurav       NaN  03-03-2002\n",
       "3   1004    Hema Chandra  16500.50  09-10-2000\n",
       "4   1005  Laxmi Prasanna  12000.75  10-08-2000\n",
       "5   1006          Anant    9999.99  09-09-1999"
      ]
     },
     "execution_count": 11,
     "metadata": {},
     "output_type": "execute_result"
    }
   ],
   "source": [
    "df"
   ]
  },
  {
   "cell_type": "code",
   "execution_count": 13,
   "id": "a5c08500-e2a4-4d6e-a37a-65d4fafbaf5b",
   "metadata": {},
   "outputs": [
    {
     "name": "stdout",
     "output_type": "stream",
     "text": [
      "EMPID     0\n",
      "ENAME     0\n",
      "SALARY    1\n",
      "DOJ       0\n",
      "dtype: int64\n"
     ]
    }
   ],
   "source": [
    "print(df.isna().sum())"
   ]
  },
  {
   "cell_type": "code",
   "execution_count": 15,
   "id": "0e51984c-92c7-4c86-816a-2d3ddc151209",
   "metadata": {},
   "outputs": [
    {
     "name": "stdout",
     "output_type": "stream",
     "text": [
      "   EMPID           ENAME    SALARY         DOJ\n",
      "0   1001          Ganesh   1000.00  10-10-2000\n",
      "1   1002            Anil  23000.50   3/20/2002\n",
      "3   1004    Hema Chandra  16500.50  09-10-2000\n",
      "4   1005  Laxmi Prasanna  12000.75  10-08-2000\n",
      "5   1006          Anant    9999.99  09-09-1999\n"
     ]
    }
   ],
   "source": [
    "print(df.dropna(axis=0,inplace=False))"
   ]
  },
  {
   "cell_type": "code",
   "execution_count": 17,
   "id": "d8d7e3ae-c730-4c64-8ea9-05cba14810f7",
   "metadata": {},
   "outputs": [
    {
     "name": "stdout",
     "output_type": "stream",
     "text": [
      "   EMPID           ENAME    SALARY         DOJ\n",
      "0   1001          Ganesh   1000.00  10-10-2000\n",
      "1   1002            Anil  23000.50   3/20/2002\n",
      "2   1003          Gaurav       NaN  03-03-2002\n",
      "3   1004    Hema Chandra  16500.50  09-10-2000\n",
      "4   1005  Laxmi Prasanna  12000.75  10-08-2000\n",
      "5   1006          Anant    9999.99  09-09-1999\n"
     ]
    }
   ],
   "source": [
    "print(df)"
   ]
  },
  {
   "cell_type": "code",
   "execution_count": null,
   "id": "b5bbfc94-f3d6-48b3-9f7c-d358a4ad07d9",
   "metadata": {},
   "outputs": [],
   "source": []
  }
 ],
 "metadata": {
  "kernelspec": {
   "display_name": "Python 3 (ipykernel)",
   "language": "python",
   "name": "python3"
  },
  "language_info": {
   "codemirror_mode": {
    "name": "ipython",
    "version": 3
   },
   "file_extension": ".py",
   "mimetype": "text/x-python",
   "name": "python",
   "nbconvert_exporter": "python",
   "pygments_lexer": "ipython3",
   "version": "3.12.4"
  }
 },
 "nbformat": 4,
 "nbformat_minor": 5
}
